{
 "cells": [
  {
   "cell_type": "code",
   "execution_count": 10,
   "id": "88392b0e-74c9-46fe-851c-3fb2add03d1f",
   "metadata": {},
   "outputs": [
    {
     "name": "stdout",
     "output_type": "stream",
     "text": [
      "1.31.0\n"
     ]
    }
   ],
   "source": [
    "import polars as pl\n",
    "import pandas as pd\n",
    "import prince\n",
    "import numpy as np\n",
    "\n",
    "import preprocessing_data as ppd\n",
    "print(pl.__version__)"
   ]
  },
  {
   "cell_type": "code",
   "execution_count": 8,
   "id": "28bb606d-dfa0-40aa-a6b0-9f989b3bb2ff",
   "metadata": {},
   "outputs": [
    {
     "name": "stdout",
     "output_type": "stream",
     "text": [
      "D:\\AI experiments\\Customer_IT_Support-Ticket_Dataset\n"
     ]
    }
   ],
   "source": [
    "import os\n",
    "print(os.getcwd())"
   ]
  },
  {
   "cell_type": "code",
   "execution_count": 72,
   "id": "7c399b03-cad3-4ffe-8b8c-76b5748ccecc",
   "metadata": {},
   "outputs": [],
   "source": [
    "import spacy\n",
    "from spacy.tokens import DocBin"
   ]
  },
  {
   "cell_type": "code",
   "execution_count": null,
   "id": "b8e0f0b0-7aca-43b2-8ee1-6301c6642910",
   "metadata": {},
   "outputs": [],
   "source": []
  },
  {
   "cell_type": "markdown",
   "id": "a6c5dee1-81b1-448c-9845-b47ebecfaec3",
   "metadata": {},
   "source": [
    "# Loading & cleaning"
   ]
  },
  {
   "cell_type": "code",
   "execution_count": 38,
   "id": "f4222969-f2a1-4cb6-b8af-d68ea7bd4976",
   "metadata": {
    "scrolled": true
   },
   "outputs": [
    {
     "name": "stdout",
     "output_type": "stream",
     "text": [
      "No difference between after cleaning\n"
     ]
    },
    {
     "data": {
      "text/html": [
       "<div><style>\n",
       ".dataframe > thead > tr,\n",
       ".dataframe > tbody > tr {\n",
       "  text-align: right;\n",
       "  white-space: pre-wrap;\n",
       "}\n",
       "</style>\n",
       "<small>shape: (16_338,)</small><table border=\"1\" class=\"dataframe\"><thead><tr><th>body</th></tr><tr><td>str</td></tr></thead><tbody><tr><td>&quot;Dear Customer Support Team,\\n\\…</td></tr><tr><td>&quot;Dear Customer Support Team,\\n\\…</td></tr><tr><td>&quot;Dear Customer Support Team,\\n\\…</td></tr><tr><td>&quot;Dear Support Team,\\n\\nI hope t…</td></tr><tr><td>&quot;Dear Customer Support,\\n\\nI ho…</td></tr><tr><td>&hellip;</td></tr><tr><td>&quot;An unexpected billing discrepa…</td></tr><tr><td>&quot;A data breach has occurred, wh…</td></tr><tr><td>&quot;The data analytics tool experi…</td></tr><tr><td>&quot;Requesting an update on the in…</td></tr><tr><td>&quot;Looking for detailed informati…</td></tr></tbody></table></div>"
      ],
      "text/plain": [
       "shape: (16_338,)\n",
       "Series: 'body' [str]\n",
       "[\n",
       "\t\"Dear Customer Support Team,\\n\\…\n",
       "\t\"Dear Customer Support Team,\\n\\…\n",
       "\t\"Dear Customer Support Team,\\n\\…\n",
       "\t\"Dear Support Team,\\n\\nI hope t…\n",
       "\t\"Dear Customer Support,\\n\\nI ho…\n",
       "\t…\n",
       "\t\"An unexpected billing discrepa…\n",
       "\t\"A data breach has occurred, wh…\n",
       "\t\"The data analytics tool experi…\n",
       "\t\"Requesting an update on the in…\n",
       "\t\"Looking for detailed informati…\n",
       "]"
      ]
     },
     "execution_count": 38,
     "metadata": {},
     "output_type": "execute_result"
    }
   ],
   "source": [
    "#Data training\n",
    "df=ppd.make_clean(\"data/aa_dataset-tickets-multi-lang-5-2-50-version.csv\")\n",
    "df_train = df.filter(pl.col(\"language\") == \"en\")\n",
    "train_corpus=df_train[\"body\"]\n",
    "train_corpus"
   ]
  },
  {
   "cell_type": "code",
   "execution_count": 15,
   "id": "e1f745dc-f038-45a8-9db3-b8fb8afcb324",
   "metadata": {},
   "outputs": [
    {
     "name": "stdout",
     "output_type": "stream",
     "text": [
      "Some elements have been dropped during cleaning\n"
     ]
    },
    {
     "data": {
      "text/html": [
       "<div><style>\n",
       ".dataframe > thead > tr,\n",
       ".dataframe > tbody > tr {\n",
       "  text-align: right;\n",
       "  white-space: pre-wrap;\n",
       "}\n",
       "</style>\n",
       "<small>shape: (1_390,)</small><table border=\"1\" class=\"dataframe\"><thead><tr><th>body</th></tr><tr><td>str</td></tr></thead><tbody><tr><td>&quot;Dear IT Services Support Team,…</td></tr><tr><td>&quot;Dear Customer Support,\n",
       "\n",
       "I am e…</td></tr><tr><td>&quot;Dear IT Services Customer Supp…</td></tr><tr><td>&quot;Dear Tech Online Store Support…</td></tr><tr><td>&quot;Dear Customer Support,\n",
       "\n",
       "I hope…</td></tr><tr><td>&hellip;</td></tr><tr><td>&quot;Hello Customer Support Team,\n",
       "\n",
       "…</td></tr><tr><td>&quot;Dear Customer Support Team,\n",
       "\n",
       "W…</td></tr><tr><td>&quot;Dear Customer Support Team,\n",
       "\n",
       "O…</td></tr><tr><td>&quot;Dear IT Services Support Team,…</td></tr><tr><td>&quot;Dear Tech Online Store Custome…</td></tr></tbody></table></div>"
      ],
      "text/plain": [
       "shape: (1_390,)\n",
       "Series: 'body' [str]\n",
       "[\n",
       "\t\"Dear IT Services Support Team,…\n",
       "\t\"Dear Customer Support,\n",
       "\n",
       "I am e…\n",
       "\t\"Dear IT Services Customer Supp…\n",
       "\t\"Dear Tech Online Store Support…\n",
       "\t\"Dear Customer Support,\n",
       "\n",
       "I hope…\n",
       "\t…\n",
       "\t\"Hello Customer Support Team,\n",
       "\n",
       "…\n",
       "\t\"Dear Customer Support Team,\n",
       "\n",
       "W…\n",
       "\t\"Dear Customer Support Team,\n",
       "\n",
       "O…\n",
       "\t\"Dear IT Services Support Team,…\n",
       "\t\"Dear Tech Online Store Custome…\n",
       "]"
      ]
     },
     "execution_count": 15,
     "metadata": {},
     "output_type": "execute_result"
    }
   ],
   "source": [
    "#Data test\n",
    "df_test = ppd.make_clean(\"data/dataset-tickets-multi-lang3-4k.csv\")\n",
    "df_test=df_test.filter(pl.col(\"language\")==\"en\")\n",
    "test_corpus= df_test[\"body\"]\n",
    "test_corpus"
   ]
  },
  {
   "cell_type": "markdown",
   "id": "78355606-9f71-49a7-bccf-4fc02b7be69a",
   "metadata": {},
   "source": [
    "# Lowercasing"
   ]
  },
  {
   "cell_type": "code",
   "execution_count": 31,
   "id": "52c2facb-9612-404a-b7e5-40dc55b831c2",
   "metadata": {
    "scrolled": true
   },
   "outputs": [],
   "source": [
    "train_corpus=list(train_corpus)\n",
    "train_corpus = [sentence.lower() for sentence in train_corpus]"
   ]
  },
  {
   "cell_type": "code",
   "execution_count": 32,
   "id": "355cf8b1-7792-41e3-a3cc-a5e362349c5c",
   "metadata": {},
   "outputs": [],
   "source": [
    "test_corpus=list(test_corpus)\n",
    "test_corpus = [sentence.lower() for sentence in test_corpus]"
   ]
  },
  {
   "cell_type": "markdown",
   "id": "7acb4d23-80fe-486e-8f11-660d905e4c09",
   "metadata": {},
   "source": [
    "# Lemmatising"
   ]
  },
  {
   "cell_type": "code",
   "execution_count": 36,
   "id": "496b7aa2-e345-41df-83c2-c814b25f2fc1",
   "metadata": {},
   "outputs": [
    {
     "data": {
      "text/plain": [
       "54"
      ]
     },
     "execution_count": 36,
     "metadata": {},
     "output_type": "execute_result"
    }
   ],
   "source": [
    "len(\"Apple is looking at buying U.K. startup for $1 billion\")"
   ]
  },
  {
   "cell_type": "markdown",
   "id": "19471514-22ee-4ef4-8d40-f074ce1fc9b5",
   "metadata": {},
   "source": [
    "# #_"
   ]
  },
  {
   "cell_type": "code",
   "execution_count": 66,
   "id": "b37bd9cd-7c2e-4e45-bed8-26bae6fbef9c",
   "metadata": {
    "scrolled": true
   },
   "outputs": [],
   "source": [
    "labels = list(df_train[\"queue\"].unique())\n",
    "\n",
    "TRAIN_DATA = []\n",
    "df_train = pd.DataFrame(df_train, columns=df_train.columns)\n",
    "for _, row in df_train.iterrows():\n",
    "    cats = {label: 1.0 if label == row[\"queue\"] else 0.0 for label in labels}\n",
    "    TRAIN_DATA.append((row[\"body\"], {\"cats\": cats}))\n"
   ]
  },
  {
   "cell_type": "code",
   "execution_count": 67,
   "id": "acde6a6b-9b5c-48e9-88d5-9f9ce897bba4",
   "metadata": {},
   "outputs": [],
   "source": [
    "labels = list(df_test[\"queue\"].unique())\n",
    "\n",
    "TEST_DATA = []\n",
    "df_test = pd.DataFrame(df_test, columns=df_test.columns)\n",
    "for _, row in df_test.iterrows():\n",
    "    cats = {label: 1.0 if label == row[\"queue\"] else 0.0 for label in labels}\n",
    "    TEST_DATA.append((row[\"body\"], {\"cats\": cats}))\n"
   ]
  },
  {
   "cell_type": "code",
   "execution_count": 70,
   "id": "31cb36e9-07a9-43f3-b9e9-3eb50db79634",
   "metadata": {},
   "outputs": [],
   "source": [
    "def convert_to_spacy(data, output_file):\n",
    "    nlp = spacy.blank(\"en\")\n",
    "    db = DocBin()\n",
    "    for text, annotations in data:\n",
    "        doc = nlp.make_doc(text)\n",
    "        doc.cats = annotations[\"cats\"]\n",
    "        db.add(doc)\n",
    "    db.to_disk(output_file)\n",
    "\n"
   ]
  },
  {
   "cell_type": "code",
   "execution_count": 74,
   "id": "145cb326-e477-4ffe-b158-f36538c29f7a",
   "metadata": {},
   "outputs": [
    {
     "name": "stdout",
     "output_type": "stream",
     "text": [
      "D:\\AI experiments\\Customer_IT_Support-Ticket_Dataset\n"
     ]
    }
   ],
   "source": [
    "print(os.getcwd())"
   ]
  },
  {
   "cell_type": "code",
   "execution_count": 73,
   "id": "79663f61-320e-4328-9797-7519f2daa0a9",
   "metadata": {},
   "outputs": [],
   "source": [
    "convert_to_spacy(TRAIN_DATA[:10000], \"train.spacy\")\n",
    "convert_to_spacy(TRAIN_DATA[10000:], \"valid.spacy\")"
   ]
  },
  {
   "cell_type": "code",
   "execution_count": 75,
   "id": "cf129ce2-efe5-46b3-bdce-9693b7b3a13c",
   "metadata": {},
   "outputs": [],
   "source": [
    "convert_to_spacy(TEST_DATA, \"test.spacy\")"
   ]
  },
  {
   "cell_type": "code",
   "execution_count": null,
   "id": "41f4adfa-bd10-4e84-b948-b1ab38d7c700",
   "metadata": {},
   "outputs": [],
   "source": []
  }
 ],
 "metadata": {
  "kernelspec": {
   "display_name": "Python 3 (ipykernel)",
   "language": "python",
   "name": "python3"
  },
  "language_info": {
   "codemirror_mode": {
    "name": "ipython",
    "version": 3
   },
   "file_extension": ".py",
   "mimetype": "text/x-python",
   "name": "python",
   "nbconvert_exporter": "python",
   "pygments_lexer": "ipython3",
   "version": "3.10.2"
  }
 },
 "nbformat": 4,
 "nbformat_minor": 5
}
