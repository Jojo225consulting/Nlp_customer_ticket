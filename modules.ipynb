{
 "cells": [
  {
   "cell_type": "code",
   "execution_count": null,
   "id": "11481a9a-1759-4357-9777-7daf8c442407",
   "metadata": {},
   "outputs": [],
   "source": [
    "def make_clean(data_path, feature_target=['body','queue','language']):\n",
    "    ''' This function allows to make clean data'''\n",
    "    df=pl.read_csv(data_path)\n",
    "\n",
    "    #dropping columns containing totaly Null value\n",
    "    df_clean = df.select([col for col in df.columns if df.select(col).null_count().item() < len(df)])\n",
    "\n",
    "    #dropping rows containing totaly Null value\n",
    "    df_clean = df_clean.filter(~pl.all_horizontal(pl.col('*').is_null()))\n",
    "    \n",
    "    #dropping every row containing Null value in one of element from list feature_target\n",
    "    for col in feature_target:\n",
    "        df_clean = df_clean.filter(pl.col(col).is_not_null())\n",
    "    \n",
    "    if df_clean.shape == df.shape: \n",
    "        print(\"No difference between after cleaning\")\n",
    "    else:\n",
    "        print(\"Some elements have been dropped during cleaning\")\n",
    "    \n",
    "    return df_clean\n",
    "    "
   ]
  },
  {
   "cell_type": "code",
   "execution_count": null,
   "id": "3e5ff827-6144-4b41-8516-35b78ec736c5",
   "metadata": {},
   "outputs": [],
   "source": [
    "def synonym_verif(word, corpus):\n",
    "    '''This function consists to verify if a word coming from a new request already exists in the corpus. \n",
    "    If not the case, we attempt to replace this word by the nearest word present in the corpus provided that the threshold of similarity be more than 0.65'''\n",
    "    # import fasttext\n",
    "\n",
    "    # model = fasttext.load_model('/kaggle/input/fasttext-cc-en-300-bin/cc.en.300.bin')\n",
    "\n",
    "    nearest = word\n",
    "    if word not in corpus:\n",
    "        similar_words = model_synonym.get_nearest_neighbors(word, k=10)\n",
    "        for similarity, w in similar_words :\n",
    "            if (w in corpus) and (similarity >= 0.7):\n",
    "                nearest = w\n",
    "                break\n",
    "\n",
    "    return nearest"
   ]
  },
  {
   "cell_type": "code",
   "execution_count": 8,
   "id": "36452fc1-ae24-4798-8790-ea3d1f9d4dff",
   "metadata": {},
   "outputs": [
    {
     "name": "stdout",
     "output_type": "stream",
     "text": [
      "success\n"
     ]
    }
   ],
   "source": [
    "def clean_sentence(sentence, corpus):\n",
    "    \"\"\"\n",
    "    Applique synonym_verif à chaque mot d'une phrase.\n",
    "    \"\"\"\n",
    "    words = sentence.split()\n",
    "    corrected_words = [synonym_verif(word, corpus) if word not in text.ENGLISH_STOP_WORDS else word for word in words]\n",
    "    return \" \".join(corrected_words)"
   ]
  },
  {
   "cell_type": "code",
   "execution_count": null,
   "id": "91425ab0-d2bf-4779-a7d4-4bfa80b2b081",
   "metadata": {},
   "outputs": [],
   "source": []
  }
 ],
 "metadata": {
  "kernelspec": {
   "display_name": "Python 3.10 (myenv)",
   "language": "python",
   "name": "python310env"
  },
  "language_info": {
   "codemirror_mode": {
    "name": "ipython",
    "version": 3
   },
   "file_extension": ".py",
   "mimetype": "text/x-python",
   "name": "python",
   "nbconvert_exporter": "python",
   "pygments_lexer": "ipython3",
   "version": "3.10.2"
  }
 },
 "nbformat": 4,
 "nbformat_minor": 5
}
